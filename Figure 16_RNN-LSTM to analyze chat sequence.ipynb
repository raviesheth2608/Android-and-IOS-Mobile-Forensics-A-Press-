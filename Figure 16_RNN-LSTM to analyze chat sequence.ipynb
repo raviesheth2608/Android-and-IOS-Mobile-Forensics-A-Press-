{
 "cells": [
  {
   "cell_type": "code",
   "execution_count": 1,
   "id": "f2cfd4e4",
   "metadata": {},
   "outputs": [
    {
     "name": "stdout",
     "output_type": "stream",
     "text": [
      "Epoch 1/10\n",
      "3/3 [==============================] - 6s 19ms/step - loss: 0.6922 - accuracy: 0.5000\n",
      "Epoch 2/10\n",
      "3/3 [==============================] - 0s 10ms/step - loss: 0.6903 - accuracy: 0.8333\n",
      "Epoch 3/10\n",
      "3/3 [==============================] - 0s 11ms/step - loss: 0.6862 - accuracy: 0.8333\n",
      "Epoch 4/10\n",
      "3/3 [==============================] - 0s 12ms/step - loss: 0.6822 - accuracy: 1.0000\n",
      "Epoch 5/10\n",
      "3/3 [==============================] - 0s 14ms/step - loss: 0.6782 - accuracy: 1.0000\n",
      "Epoch 6/10\n",
      "3/3 [==============================] - 0s 11ms/step - loss: 0.6724 - accuracy: 1.0000\n",
      "Epoch 7/10\n",
      "3/3 [==============================] - 0s 12ms/step - loss: 0.6642 - accuracy: 1.0000\n",
      "Epoch 8/10\n",
      "3/3 [==============================] - 0s 11ms/step - loss: 0.6544 - accuracy: 1.0000\n",
      "Epoch 9/10\n",
      "3/3 [==============================] - 0s 9ms/step - loss: 0.6419 - accuracy: 1.0000\n",
      "Epoch 10/10\n",
      "3/3 [==============================] - 0s 13ms/step - loss: 0.6248 - accuracy: 1.0000\n"
     ]
    },
    {
     "data": {
      "text/plain": [
       "<keras.src.callbacks.History at 0x1b43dfe50d0>"
      ]
     },
     "execution_count": 1,
     "metadata": {},
     "output_type": "execute_result"
    }
   ],
   "source": [
    "from tensorflow.keras.preprocessing.sequence import pad_sequences\n",
    "from tensorflow.keras.models import Sequential\n",
    "from tensorflow.keras.layers import Embedding, LSTM, Dense\n",
    "from tensorflow.keras.preprocessing.text import Tokenizer\n",
    "import numpy as np\n",
    "\n",
    "# --- Simulated SMS/chat dataset ---\n",
    "texts = [\n",
    "    \"Let's meet at the cafe\",\n",
    "    \"He is planning something dangerous\",\n",
    "    \"Lunch at 2 PM\",\n",
    "    \"They are going to attack\",\n",
    "    \"Call me when you reach\",\n",
    "    \"The bomb will explode at midnight\"\n",
    "]\n",
    "\n",
    "labels = [0, 1, 0, 1, 0, 1]  # 1 = suspicious, 0 = normal\n",
    "\n",
    "# --- Tokenization and padding ---\n",
    "tokenizer = Tokenizer(num_words=1000)\n",
    "tokenizer.fit_on_texts(texts)\n",
    "sequences = tokenizer.texts_to_sequences(texts)\n",
    "X_chat = pad_sequences(sequences, maxlen=6)\n",
    "y_chat = np.array(labels)\n",
    "\n",
    "# --- Define LSTM model ---\n",
    "rnn_model = Sequential([\n",
    "    Embedding(input_dim=1000, output_dim=32, input_length=6),\n",
    "    LSTM(64),\n",
    "    Dense(1, activation='sigmoid')\n",
    "])\n",
    "\n",
    "# --- Compile the model ---\n",
    "rnn_model.compile(optimizer='adam',\n",
    "                  loss='binary_crossentropy',\n",
    "                  metrics=['accuracy'])\n",
    "\n",
    "# --- Train the model ---\n",
    "rnn_model.fit(X_chat, y_chat, epochs=10, batch_size=2, verbose=1)"
   ]
  },
  {
   "cell_type": "code",
   "execution_count": null,
   "id": "35a49ac8",
   "metadata": {},
   "outputs": [],
   "source": []
  }
 ],
 "metadata": {
  "kernelspec": {
   "display_name": "Python 3",
   "language": "python",
   "name": "python3"
  },
  "language_info": {
   "codemirror_mode": {
    "name": "ipython",
    "version": 3
   },
   "file_extension": ".py",
   "mimetype": "text/x-python",
   "name": "python",
   "nbconvert_exporter": "python",
   "pygments_lexer": "ipython3",
   "version": "3.8.8"
  }
 },
 "nbformat": 4,
 "nbformat_minor": 5
}
