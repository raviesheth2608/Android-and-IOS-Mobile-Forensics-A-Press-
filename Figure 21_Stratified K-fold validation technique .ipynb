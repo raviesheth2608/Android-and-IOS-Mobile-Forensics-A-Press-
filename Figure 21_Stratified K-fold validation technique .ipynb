{
 "cells": [
  {
   "cell_type": "code",
   "execution_count": 1,
   "id": "3e90df52",
   "metadata": {},
   "outputs": [
    {
     "name": "stdout",
     "output_type": "stream",
     "text": [
      "Class distribution in full dataset: [423  77]\n",
      "Class distribution in training set: [338  62]\n",
      "Class distribution in test set: [85 15]\n",
      "\n",
      "--- Regular K-Fold Cross-Validation ---\n",
      "Accuracy scores: [0.925  0.8875 0.9    0.9375 0.975 ]\n",
      "Mean accuracy: 0.925\n",
      "\n",
      "--- Stratified K-Fold Cross-Validation ---\n",
      "Accuracy scores: [0.9125 0.9375 0.95   0.9125 0.9125]\n",
      "Mean accuracy: 0.925\n"
     ]
    }
   ],
   "source": [
    "import numpy as np\n",
    "from sklearn.datasets import make_classification\n",
    "from sklearn.model_selection import train_test_split, KFold, StratifiedKFold, cross_val_score\n",
    "from sklearn.linear_model import LogisticRegression\n",
    "\n",
    "# Create an imbalanced classification dataset\n",
    "X, y = make_classification(\n",
    "    n_samples=500, n_features=10, n_classes=2,\n",
    "    weights=[0.85, 0.15],  # imbalanced\n",
    "    random_state=42\n",
    ")\n",
    "\n",
    "# ---- Stratified Sampling ----\n",
    "# Keeps class distribution similar in train/test sets\n",
    "X_train, X_test, y_train, y_test = train_test_split(\n",
    "    X, y,\n",
    "    test_size=0.2,\n",
    "    stratify=y,  # ensures same class proportions\n",
    "    random_state=42\n",
    ")\n",
    "\n",
    "print(\"Class distribution in full dataset:\", np.bincount(y))\n",
    "print(\"Class distribution in training set:\", np.bincount(y_train))\n",
    "print(\"Class distribution in test set:\", np.bincount(y_test))\n",
    "\n",
    "# ---- k-Fold Cross-Validation ----\n",
    "print(\"\\n--- Regular K-Fold Cross-Validation ---\")\n",
    "kf = KFold(n_splits=5, shuffle=True, random_state=42)\n",
    "model = LogisticRegression(max_iter=1000)\n",
    "scores = cross_val_score(model, X_train, y_train, cv=kf, scoring='accuracy')\n",
    "print(\"Accuracy scores:\", scores)\n",
    "print(\"Mean accuracy:\", scores.mean())\n",
    "\n",
    "# ---- Stratified k-Fold Cross-Validation ----\n",
    "print(\"\\n--- Stratified K-Fold Cross-Validation ---\")\n",
    "skf = StratifiedKFold(n_splits=5, shuffle=True, random_state=42)\n",
    "strat_scores = cross_val_score(model, X_train, y_train, cv=skf, scoring='accuracy')\n",
    "print(\"Accuracy scores:\", strat_scores)\n",
    "print(\"Mean accuracy:\", strat_scores.mean())"
   ]
  },
  {
   "cell_type": "code",
   "execution_count": null,
   "id": "a5482bd9",
   "metadata": {},
   "outputs": [],
   "source": []
  }
 ],
 "metadata": {
  "kernelspec": {
   "display_name": "Python 3",
   "language": "python",
   "name": "python3"
  },
  "language_info": {
   "codemirror_mode": {
    "name": "ipython",
    "version": 3
   },
   "file_extension": ".py",
   "mimetype": "text/x-python",
   "name": "python",
   "nbconvert_exporter": "python",
   "pygments_lexer": "ipython3",
   "version": "3.8.8"
  }
 },
 "nbformat": 4,
 "nbformat_minor": 5
}
