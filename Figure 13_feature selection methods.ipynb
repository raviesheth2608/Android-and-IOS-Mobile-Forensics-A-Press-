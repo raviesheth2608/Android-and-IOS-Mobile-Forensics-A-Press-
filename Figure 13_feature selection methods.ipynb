{
 "cells": [
  {
   "cell_type": "code",
   "execution_count": 1,
   "id": "9136ac6f",
   "metadata": {},
   "outputs": [
    {
     "name": "stdout",
     "output_type": "stream",
     "text": [
      "RFE Selected Features: ['feature_0', 'feature_3', 'feature_5', 'feature_7', 'feature_8']\n",
      "CFS Selected Features: ['feature_0', 'feature_1', 'feature_8', 'feature_7', 'feature_5']\n",
      "Mutual Information Selected Features: ['feature_9', 'feature_0', 'feature_1', 'feature_7', 'feature_8']\n",
      "Lasso Selected Features: ['feature_0', 'feature_1', 'feature_3', 'feature_5', 'feature_6', 'feature_7', 'feature_8']\n"
     ]
    }
   ],
   "source": [
    "\"\"\"\n",
    "Feature Selection Techniques:\n",
    "1. Recursive Feature Elimination (RFE)\n",
    "2. Correlation-based Feature Selection (CFS)\n",
    "3. Mutual Information\n",
    "4. Lasso Regression (L1 regularization)\n",
    "\"\"\"\n",
    "\n",
    "import pandas as pd\n",
    "import numpy as np\n",
    "from sklearn.datasets import make_classification\n",
    "from sklearn.linear_model import LogisticRegression, LassoCV\n",
    "from sklearn.feature_selection import RFE, mutual_info_classif\n",
    "from sklearn.model_selection import train_test_split\n",
    "\n",
    "# --- Create sample dataset ---\n",
    "X, y = make_classification(n_samples=300, n_features=10, \n",
    "                           n_informative=5, n_redundant=2, \n",
    "                           n_classes=2, random_state=42)\n",
    "\n",
    "feature_names = [f\"feature_{i}\" for i in range(X.shape[1])]\n",
    "df = pd.DataFrame(X, columns=feature_names)\n",
    "df['target'] = y\n",
    "\n",
    "# --- 1) Recursive Feature Elimination (RFE) ---\n",
    "model = LogisticRegression(max_iter=2000, solver='lbfgs')\n",
    "rfe = RFE(model, n_features_to_select=5)\n",
    "rfe.fit(X, y)\n",
    "rfe_selected = [feature_names[i] for i in range(len(feature_names)) if rfe.support_[i]]\n",
    "\n",
    "print(\"RFE Selected Features:\", rfe_selected)\n",
    "\n",
    "# --- 2) Correlation-based Feature Selection (CFS) ---\n",
    "corr_matrix = df.corr()\n",
    "target_corr = corr_matrix['target'].drop('target').abs()  # correlation with target\n",
    "\n",
    "# Select top 5 features with low intercorrelation\n",
    "sorted_features = target_corr.sort_values(ascending=False)\n",
    "selected_cfs = []\n",
    "for f in sorted_features.index:\n",
    "    if all(abs(corr_matrix[f][sf]) < 0.7 for sf in selected_cfs):\n",
    "        selected_cfs.append(f)\n",
    "    if len(selected_cfs) == 5:\n",
    "        break\n",
    "\n",
    "print(\"CFS Selected Features:\", selected_cfs)\n",
    "\n",
    "# --- 3) Mutual Information ---\n",
    "mi_scores = mutual_info_classif(X, y, random_state=42)\n",
    "mi_ranking = sorted(zip(feature_names, mi_scores), key=lambda x: x[1], reverse=True)\n",
    "selected_mi = [f for f, score in mi_ranking[:5]]\n",
    "\n",
    "print(\"Mutual Information Selected Features:\", selected_mi)\n",
    "\n",
    "# --- 4) Lasso Regression for feature selection ---\n",
    "lasso = LassoCV(cv=5, random_state=42).fit(X, y)\n",
    "lasso_selected = [feature_names[i] for i, coef in enumerate(lasso.coef_) if coef != 0]\n",
    "\n",
    "print(\"Lasso Selected Features:\", lasso_selected)"
   ]
  },
  {
   "cell_type": "code",
   "execution_count": null,
   "id": "3112f836",
   "metadata": {},
   "outputs": [],
   "source": []
  }
 ],
 "metadata": {
  "kernelspec": {
   "display_name": "Python 3",
   "language": "python",
   "name": "python3"
  },
  "language_info": {
   "codemirror_mode": {
    "name": "ipython",
    "version": 3
   },
   "file_extension": ".py",
   "mimetype": "text/x-python",
   "name": "python",
   "nbconvert_exporter": "python",
   "pygments_lexer": "ipython3",
   "version": "3.8.8"
  }
 },
 "nbformat": 4,
 "nbformat_minor": 5
}
