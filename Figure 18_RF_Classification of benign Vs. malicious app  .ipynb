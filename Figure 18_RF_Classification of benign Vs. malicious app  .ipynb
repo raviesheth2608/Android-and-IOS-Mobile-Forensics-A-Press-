{
 "cells": [
  {
   "cell_type": "code",
   "execution_count": 1,
   "id": "89bd0029",
   "metadata": {},
   "outputs": [
    {
     "name": "stdout",
     "output_type": "stream",
     "text": [
      "Malware\n",
      "Feature importances: [0.27906977 0.30232558 0.03488372 0.38372093]\n"
     ]
    }
   ],
   "source": [
    "from sklearn.ensemble import RandomForestClassifier\n",
    "\n",
    "# Features: [CAMERA, INTERNET, READ_SMS, CPU_USAGE]\n",
    "X = [\n",
    "    [1, 1, 1, 80],   # malware\n",
    "    [0, 0, 0, 30],   # benign\n",
    "    [1, 1, 0, 90],   # malware\n",
    "    [0, 0, 0, 20]    # benign\n",
    "]\n",
    "\n",
    "y = [1, 0, 1, 0]  # 1 = malware, 0 = benign\n",
    "\n",
    "# Train Random Forest model\n",
    "rf_model = RandomForestClassifier(n_estimators=100)\n",
    "rf_model.fit(X, y)\n",
    "\n",
    "# New app analysis\n",
    "new_app = [[1, 1, 1, 70]]\n",
    "prediction = rf_model.predict(new_app)\n",
    "print(\"Malware\" if prediction[0] else \"Benign\")\n",
    "\n",
    "# Feature importance\n",
    "importances = rf_model.feature_importances_\n",
    "print(\"Feature importances:\", importances)"
   ]
  },
  {
   "cell_type": "code",
   "execution_count": null,
   "id": "f86fa763",
   "metadata": {},
   "outputs": [],
   "source": []
  }
 ],
 "metadata": {
  "kernelspec": {
   "display_name": "Python 3",
   "language": "python",
   "name": "python3"
  },
  "language_info": {
   "codemirror_mode": {
    "name": "ipython",
    "version": 3
   },
   "file_extension": ".py",
   "mimetype": "text/x-python",
   "name": "python",
   "nbconvert_exporter": "python",
   "pygments_lexer": "ipython3",
   "version": "3.8.8"
  }
 },
 "nbformat": 4,
 "nbformat_minor": 5
}
