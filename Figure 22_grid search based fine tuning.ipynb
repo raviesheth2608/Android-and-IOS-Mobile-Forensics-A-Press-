{
 "cells": [
  {
   "cell_type": "code",
   "execution_count": 4,
   "id": "fd23e6fe",
   "metadata": {},
   "outputs": [],
   "source": [
    "from tensorflow.keras.models import Sequential\n",
    "from tensorflow.keras.layers import Dense\n",
    "from tensorflow.keras.optimizers import Adam\n",
    "from scikeras.wrappers import KerasClassifier\n",
    "\n",
    "# Function to create the model\n",
    "def create_model(learning_rate=0.01, layers=1, activation='relu'):\n",
    "    model = Sequential()\n",
    "    model.add(Dense(32, input_dim=10, activation=activation))\n",
    "    \n",
    "    for _ in range(layers - 1):\n",
    "        model.add(Dense(32, activation=activation))\n",
    "    \n",
    "    model.add(Dense(1, activation='sigmoid'))\n",
    "    model.compile(optimizer=Adam(learning_rate=learning_rate), \n",
    "                  loss='binary_crossentropy', \n",
    "                  metrics=['accuracy'])\n",
    "    return model\n",
    "\n",
    "# Wrap the model for use with scikit-learn\n",
    "model = KerasClassifier(model=create_model, verbose=0)\n",
    "\n",
    "# Define hyperparameter grid\n",
    "param_grid = {\n",
    "    'learning_rate': [0.001, 0.01],\n",
    "    'layers': [1, 2, 3],\n",
    "    'activation': ['relu', 'tanh'],\n",
    "    'batch_size': [16, 32]\n",
    "}"
   ]
  }
 ],
 "metadata": {
  "kernelspec": {
   "display_name": "Python 3",
   "language": "python",
   "name": "python3"
  },
  "language_info": {
   "codemirror_mode": {
    "name": "ipython",
    "version": 3
   },
   "file_extension": ".py",
   "mimetype": "text/x-python",
   "name": "python",
   "nbconvert_exporter": "python",
   "pygments_lexer": "ipython3",
   "version": "3.8.8"
  }
 },
 "nbformat": 4,
 "nbformat_minor": 5
}
