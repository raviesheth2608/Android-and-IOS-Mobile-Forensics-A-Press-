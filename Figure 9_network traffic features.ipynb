{
 "cells": [
  {
   "cell_type": "code",
   "execution_count": 2,
   "id": "3f44ef85",
   "metadata": {},
   "outputs": [
    {
     "name": "stdout",
     "output_type": "stream",
     "text": [
      "   session_id  avg_packet_size  unique_dest_ips  TCP  UDP\n",
      "0           1       616.666667                2    2    1\n",
      "1           2       950.000000                1    1    1\n",
      "2           3       467.500000                3    1    3\n"
     ]
    }
   ],
   "source": [
    "import pandas as pd\n",
    "\n",
    "# --- Fixed sample dataset: all columns now have 9 rows ---\n",
    "data = {\n",
    "    'session_id': [1, 1, 1, 2, 2, 3, 3, 3, 3],\n",
    "    'packet_size': [500, 750, 600, 1500, 400, 300, 350, 320, 900],\n",
    "    'dest_ip': [\n",
    "        '192.168.0.10', '192.168.0.10', '8.8.8.8',\n",
    "        '10.0.0.5', '10.0.0.5',\n",
    "        '192.168.0.12', '192.168.0.13', '192.168.0.13', '8.8.4.4'\n",
    "    ],\n",
    "    'protocol': ['TCP', 'TCP', 'UDP', 'TCP', 'UDP', 'UDP', 'UDP', 'UDP', 'TCP']\n",
    "}\n",
    "\n",
    "df = pd.DataFrame(data)\n",
    "\n",
    "# --- Feature: Average packet size per session ---\n",
    "df_avg_packet = df.groupby('session_id')['packet_size'].mean().reset_index(name='avg_packet_size')\n",
    "\n",
    "# --- Feature: Unique destination IP count per session ---\n",
    "df_unique_ips = df.groupby('session_id')['dest_ip'].nunique().reset_index(name='unique_dest_ips')\n",
    "\n",
    "# --- Feature: Protocol usage counts per session ---\n",
    "df_protocol_counts = df.groupby(['session_id', 'protocol']).size().unstack(fill_value=0).reset_index()\n",
    "\n",
    "# --- Merge all features ---\n",
    "features = df_avg_packet.merge(df_unique_ips, on='session_id').merge(df_protocol_counts, on='session_id')\n",
    "\n",
    "print(features)"
   ]
  },
  {
   "cell_type": "code",
   "execution_count": null,
   "id": "fcf34cc6",
   "metadata": {},
   "outputs": [],
   "source": []
  }
 ],
 "metadata": {
  "kernelspec": {
   "display_name": "Python 3",
   "language": "python",
   "name": "python3"
  },
  "language_info": {
   "codemirror_mode": {
    "name": "ipython",
    "version": 3
   },
   "file_extension": ".py",
   "mimetype": "text/x-python",
   "name": "python",
   "nbconvert_exporter": "python",
   "pygments_lexer": "ipython3",
   "version": "3.8.8"
  }
 },
 "nbformat": 4,
 "nbformat_minor": 5
}
