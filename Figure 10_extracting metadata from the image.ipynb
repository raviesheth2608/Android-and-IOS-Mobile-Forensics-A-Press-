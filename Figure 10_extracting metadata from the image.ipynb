{
 "cells": [
  {
   "cell_type": "code",
   "execution_count": null,
   "id": "9296f453",
   "metadata": {},
   "outputs": [],
   "source": [
    "from PIL import Image\n",
    "from PIL.ExifTags import TAGS, GPSTAGS\n",
    "import os\n",
    "\n",
    "def extract_image_metadata(image_path):\n",
    "    \"\"\"\n",
    "    Extracts image metadata including size, format, resolution, geotags.\n",
    "    \"\"\"\n",
    "    # Open image\n",
    "    image = Image.open(image_path)\n",
    "\n",
    "    # Basic metadata\n",
    "    metadata = {\n",
    "        \"file_size\": os.path.getsize(image_path),\n",
    "        \"format\": image.format,\n",
    "        \"resolution\": image.size\n",
    "    }\n",
    "\n",
    "    # Extract EXIF data\n",
    "    exif_data = image._getexif() or {}\n",
    "    for tag_id, value in exif_data.items():\n",
    "        tag = TAGS.get(tag_id, tag_id)\n",
    "\n",
    "        # Handle GPS info separately\n",
    "        if tag == \"GPSInfo\":\n",
    "            gps_data = {}\n",
    "            for t in value:\n",
    "                sub_tag = GPSTAGS.get(t, t)\n",
    "                gps_data[sub_tag] = value[t]\n",
    "            metadata[\"geotags\"] = gps_data\n",
    "        else:\n",
    "            metadata[tag] = value\n",
    "\n",
    "    return metadata\n",
    "\n",
    "# Example usage\n",
    "if __name__ == \"__main__\":\n",
    "    img_path = \"example.jpg\"  # Replace with your image path\n",
    "    meta = extract_image_metadata(img_path)\n",
    "    for key, val in meta.items():\n",
    "        print(f\"{key}: {val}\")"
   ]
  }
 ],
 "metadata": {
  "kernelspec": {
   "display_name": "Python 3",
   "language": "python",
   "name": "python3"
  },
  "language_info": {
   "codemirror_mode": {
    "name": "ipython",
    "version": 3
   },
   "file_extension": ".py",
   "mimetype": "text/x-python",
   "name": "python",
   "nbconvert_exporter": "python",
   "pygments_lexer": "ipython3",
   "version": "3.8.8"
  }
 },
 "nbformat": 4,
 "nbformat_minor": 5
}
