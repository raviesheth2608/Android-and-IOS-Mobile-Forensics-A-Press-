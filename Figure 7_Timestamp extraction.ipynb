{
 "cells": [
  {
   "cell_type": "code",
   "execution_count": 1,
   "id": "73026412",
   "metadata": {},
   "outputs": [
    {
     "name": "stdout",
     "output_type": "stream",
     "text": [
      "   user_id event_type           timestamp  hour_of_day  day_of_week  \\\n",
      "0      101       call 2025-07-10 08:15:27            8            3   \n",
      "1      101        gps 2025-07-10 09:30:45            9            3   \n",
      "2      102       call 2025-06-11 21:10:05           21            2   \n",
      "3      101    app_use 2025-07-11 14:22:15           14            4   \n",
      "4      103       call 2025-05-12 23:59:59           23            0   \n",
      "5      102        gps 2025-07-12 06:45:00            6            5   \n",
      "6      103    app_use 2025-03-12 11:00:00           11            2   \n",
      "7      101       call 2025-06-12 08:05:15            8            3   \n",
      "\n",
      "   event_frequency  \n",
      "0                4  \n",
      "1                4  \n",
      "2                2  \n",
      "3                4  \n",
      "4                2  \n",
      "5                2  \n",
      "6                2  \n",
      "7                4  \n"
     ]
    }
   ],
   "source": [
    "\"\"\"\n",
    "Timestamp Extraction for Mobile Forensic Data \n",
    "=> Demonstrates converting raw timestamps (e.g., from call logs, GPS data) into features: \n",
    "1. Hour of the day \n",
    "2. Day of the week \n",
    "3. Event frequency per user\n",
    "\"\"\"\n",
    "\n",
    "import pandas as pd\n",
    "from datetime import datetime\n",
    "\n",
    "# --- Sample forensic-style dataset ---\n",
    "# In practice, these could be call logs, GPS pings, or app usage events\n",
    "data = {\n",
    "    'user_id': [101, 101, 102, 101, 103, 102, 103, 101],\n",
    "    'event_type': ['call', 'gps', 'call', 'app_use', 'call', 'gps', 'app_use', 'call'],\n",
    "    'timestamp': [\n",
    "        '2025-07-10 08:15:27', '2025-07-10 09:30:45',\n",
    "        '2025-06-11 21:10:05', '2025-07-11 14:22:15',\n",
    "        '2025-05-12 23:59:59', '2025-07-12 06:45:00',\n",
    "        '2025-03-12 11:00:00', '2025-06-12 08:05:15'\n",
    "    ]\n",
    "}\n",
    "\n",
    "df = pd.DataFrame(data)\n",
    "\n",
    "# --- Convert timestamp column to pandas datetime ---\n",
    "df['timestamp'] = pd.to_datetime(df['timestamp'])\n",
    "\n",
    "# --- Feature: Hour of the day ---\n",
    "df['hour_of_day'] = df['timestamp'].dt.hour\n",
    "\n",
    "# --- Feature: Day of the week ---\n",
    "# Monday = 0, Sunday = 6\n",
    "df['day_of_week'] = df['timestamp'].dt.dayofweek\n",
    "\n",
    "# --- Feature: Frequency of events per user ---\n",
    "event_counts = df.groupby('user_id')['event_type'].transform('count')\n",
    "df['event_frequency'] = event_counts\n",
    "\n",
    "# --- Output result ---\n",
    "print(df)"
   ]
  },
  {
   "cell_type": "code",
   "execution_count": null,
   "id": "7e352eee",
   "metadata": {},
   "outputs": [],
   "source": []
  }
 ],
 "metadata": {
  "kernelspec": {
   "display_name": "Python 3",
   "language": "python",
   "name": "python3"
  },
  "language_info": {
   "codemirror_mode": {
    "name": "ipython",
    "version": 3
   },
   "file_extension": ".py",
   "mimetype": "text/x-python",
   "name": "python",
   "nbconvert_exporter": "python",
   "pygments_lexer": "ipython3",
   "version": "3.8.8"
  }
 },
 "nbformat": 4,
 "nbformat_minor": 5
}
