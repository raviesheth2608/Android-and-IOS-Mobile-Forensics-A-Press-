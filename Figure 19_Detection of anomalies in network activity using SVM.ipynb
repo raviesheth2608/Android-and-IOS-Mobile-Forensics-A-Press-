{
 "cells": [
  {
   "cell_type": "code",
   "execution_count": 1,
   "id": "bbe03bc6",
   "metadata": {},
   "outputs": [
    {
     "name": "stdout",
     "output_type": "stream",
     "text": [
      "Anomaly\n"
     ]
    }
   ],
   "source": [
    "from sklearn import svm\n",
    "\n",
    "# Features: [data_sent_MB, data_received_MB, connections_opened]\n",
    "X = [\n",
    "    [1, 2, 3],     # normal\n",
    "    [2, 2, 2],     # normal\n",
    "    [10, 50, 25],  # anomaly\n",
    "    [1, 1, 2],     # normal\n",
    "]\n",
    "y = [0, 0, 1, 0]  # 1 = anomaly/malicious, 0 = normal\n",
    "\n",
    "svm_model = svm.SVC()\n",
    "svm_model.fit(X, y)\n",
    "\n",
    "# New behavior check\n",
    "new_behavior = [[8, 40, 20]]\n",
    "prediction = svm_model.predict(new_behavior)\n",
    "print(\"Anomaly\" if prediction[0] else \"Normal\")"
   ]
  },
  {
   "cell_type": "code",
   "execution_count": null,
   "id": "062c3af8",
   "metadata": {},
   "outputs": [],
   "source": []
  }
 ],
 "metadata": {
  "kernelspec": {
   "display_name": "Python 3",
   "language": "python",
   "name": "python3"
  },
  "language_info": {
   "codemirror_mode": {
    "name": "ipython",
    "version": 3
   },
   "file_extension": ".py",
   "mimetype": "text/x-python",
   "name": "python",
   "nbconvert_exporter": "python",
   "pygments_lexer": "ipython3",
   "version": "3.8.8"
  }
 },
 "nbformat": 4,
 "nbformat_minor": 5
}
