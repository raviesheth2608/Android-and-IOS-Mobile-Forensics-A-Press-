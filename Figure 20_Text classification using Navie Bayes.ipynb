{
 "cells": [
  {
   "cell_type": "code",
   "execution_count": 1,
   "id": "ff070a69",
   "metadata": {},
   "outputs": [
    {
     "name": "stdout",
     "output_type": "stream",
     "text": [
      "Irrelevant\n"
     ]
    }
   ],
   "source": [
    "from sklearn.feature_extraction.text import CountVectorizer\n",
    "from sklearn.naive_bayes import MultinomialNB\n",
    "\n",
    "# Sample SMS data\n",
    "texts = [\"Meet me at 5\", \"There is a bomb\", \"Let's grab lunch\", \"Kill him now\"]\n",
    "labels = [0, 1, 0, 1]  # 1 = relevant, 0 = irrelevant\n",
    "\n",
    "# Vectorization\n",
    "vectorizer = CountVectorizer()\n",
    "X = vectorizer.fit_transform(texts)\n",
    "\n",
    "# Training classifier\n",
    "model = MultinomialNB()\n",
    "model.fit(X, labels)\n",
    "\n",
    "# Predict new message\n",
    "new_text = [\"Attack planned at night\"]\n",
    "new_X = vectorizer.transform(new_text)\n",
    "prediction = model.predict(new_X)\n",
    "print(\"Relevant\" if prediction[0] else \"Irrelevant\")"
   ]
  },
  {
   "cell_type": "code",
   "execution_count": null,
   "id": "06f726be",
   "metadata": {},
   "outputs": [],
   "source": []
  }
 ],
 "metadata": {
  "kernelspec": {
   "display_name": "Python 3",
   "language": "python",
   "name": "python3"
  },
  "language_info": {
   "codemirror_mode": {
    "name": "ipython",
    "version": 3
   },
   "file_extension": ".py",
   "mimetype": "text/x-python",
   "name": "python",
   "nbconvert_exporter": "python",
   "pygments_lexer": "ipython3",
   "version": "3.8.8"
  }
 },
 "nbformat": 4,
 "nbformat_minor": 5
}
